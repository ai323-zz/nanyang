{
 "cells": [
  {
   "cell_type": "code",
   "execution_count": 2,
   "metadata": {
    "collapsed": true
   },
   "outputs": [],
   "source": [
    "# Example 1\n",
    "import urllib2\n",
    "from bs4 import BeautifulSoup\n",
    "\n",
    "quote_page = 'https://www.bloomberg.com/quote/SPX:IND'\n",
    "page = urllib2.urlopen(quote_page)\n",
    "soup = BeautifulSoup(page, 'html.parser')\n",
    "\n",
    "name_box = soup.find('h1', attrs = {'class':'name'})\n",
    "price_box = soup.find('div', attrs = {'class': 'price'})\n",
    "\n",
    "name = name_box.text.strip()\n",
    "price = price_box.text\n",
    "\n",
    "print name, price"
   ]
  },
  {
   "cell_type": "code",
   "execution_count": 3,
   "metadata": {
    "collapsed": true
   },
   "outputs": [],
   "source": [
    "# Example 2\n",
    "import urllib\n",
    "from bs4 import BeautifulSoup\n",
    "\n",
    "starturl = 'http://esf.hz.fang.com/'\n",
    "req = urllib.request.Request.\n",
    "\n"
   ]
  }
 ],
 "metadata": {
  "kernelspec": {
   "display_name": "Python 2 (General DS)",
   "language": "python",
   "name": "python2"
  },
  "language_info": {
   "codemirror_mode": {
    "name": "ipython",
    "version": 2
   },
   "file_extension": ".py",
   "mimetype": "text/x-python",
   "name": "python",
   "nbconvert_exporter": "python",
   "pygments_lexer": "ipython2",
   "version": "2.7.10"
  }
 },
 "nbformat": 4,
 "nbformat_minor": 2
}
