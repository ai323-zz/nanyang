{
 "cells": [
  {
   "cell_type": "code",
   "execution_count": 195,
   "metadata": {},
   "outputs": [],
   "source": [
    "%matplotlib inline\n",
    "import numpy as np\n",
    "import pandas as pd"
   ]
  },
  {
   "cell_type": "code",
   "execution_count": 196,
   "metadata": {},
   "outputs": [],
   "source": [
    "def save_label(num):\n",
    "    import pandas as pd\n",
    "    \n",
    "    file_name = '/Users/allen/Downloads/2016BOT01/Answer_Test'\n",
    "    file_ext = '.txt'\n",
    "    \n",
    "    label = []\n",
    "    \n",
    "    for i in range(num):\n",
    "        if i==0:\n",
    "            label.append(pd.read_csv(file_name+str(i+1)+file_ext, delimiter='\\t', header=None, usecols = [0,1]))\n",
    "        else:\n",
    "            label.append(pd.read_csv(file_name+str(i+1)+file_ext, delimiter='\\t', header=None, usecols = [0,1], skiprows=1))\n",
    "            \n",
    "    label = pd.concat(label)\n",
    "    label.columns = ['file','class']\n",
    "    #label['class'] = label['class'].str.strip()\n",
    "    return label"
   ]
  },
  {
   "cell_type": "code",
   "execution_count": 197,
   "metadata": {},
   "outputs": [
    {
     "data": {
      "text/plain": [
       "(70702, 2)"
      ]
     },
     "execution_count": 197,
     "metadata": {},
     "output_type": "execute_result"
    }
   ],
   "source": [
    "label = save_label(7)\n",
    "label.shape"
   ]
  },
  {
   "cell_type": "code",
   "execution_count": 198,
   "metadata": {},
   "outputs": [
    {
     "data": {
      "text/html": [
       "<div>\n",
       "<style scoped>\n",
       "    .dataframe tbody tr th:only-of-type {\n",
       "        vertical-align: middle;\n",
       "    }\n",
       "\n",
       "    .dataframe tbody tr th {\n",
       "        vertical-align: top;\n",
       "    }\n",
       "\n",
       "    .dataframe thead th {\n",
       "        text-align: right;\n",
       "    }\n",
       "</style>\n",
       "<table border=\"1\" class=\"dataframe\">\n",
       "  <thead>\n",
       "    <tr style=\"text-align: right;\">\n",
       "      <th></th>\n",
       "      <th>file</th>\n",
       "      <th>class</th>\n",
       "    </tr>\n",
       "  </thead>\n",
       "  <tbody>\n",
       "    <tr>\n",
       "      <th>0</th>\n",
       "      <td>065ce5b41a05423ebd3765cf13f49f42</td>\n",
       "      <td>6</td>\n",
       "    </tr>\n",
       "    <tr>\n",
       "      <th>1</th>\n",
       "      <td>085cc52f573e4ea49272c2a6399d7fd6</td>\n",
       "      <td>6</td>\n",
       "    </tr>\n",
       "    <tr>\n",
       "      <th>2</th>\n",
       "      <td>092fa9f0e1bc4f7aa6ddac4816c4e021</td>\n",
       "      <td>6</td>\n",
       "    </tr>\n",
       "    <tr>\n",
       "      <th>3</th>\n",
       "      <td>09bf3b7030134e5889a3748bf99194a0</td>\n",
       "      <td>6</td>\n",
       "    </tr>\n",
       "    <tr>\n",
       "      <th>4</th>\n",
       "      <td>09f60aa039784638ab8def91539b5423</td>\n",
       "      <td>6</td>\n",
       "    </tr>\n",
       "  </tbody>\n",
       "</table>\n",
       "</div>"
      ],
      "text/plain": [
       "                               file  class\n",
       "0  065ce5b41a05423ebd3765cf13f49f42      6\n",
       "1  085cc52f573e4ea49272c2a6399d7fd6      6\n",
       "2  092fa9f0e1bc4f7aa6ddac4816c4e021      6\n",
       "3  09bf3b7030134e5889a3748bf99194a0      6\n",
       "4  09f60aa039784638ab8def91539b5423      6"
      ]
     },
     "execution_count": 198,
     "metadata": {},
     "output_type": "execute_result"
    }
   ],
   "source": [
    "label.head()"
   ]
  },
  {
   "cell_type": "code",
   "execution_count": 199,
   "metadata": {},
   "outputs": [
    {
     "data": {
      "text/plain": [
       "class\n",
       "0     6996\n",
       "1     6391\n",
       "2     6008\n",
       "3     6466\n",
       "4     8616\n",
       "5     4453\n",
       "6     8058\n",
       "7     4580\n",
       "8     5491\n",
       "9     5922\n",
       "10    4481\n",
       "11    3240\n",
       "Name: class, dtype: int64"
      ]
     },
     "execution_count": 199,
     "metadata": {},
     "output_type": "execute_result"
    }
   ],
   "source": [
    "label.groupby(['class'])['class'].count()"
   ]
  },
  {
   "cell_type": "code",
   "execution_count": 209,
   "metadata": {},
   "outputs": [],
   "source": [
    "def save_file(from_path, to_path, df):\n",
    "    import shutil\n",
    "    import os\n",
    "\n",
    "    ref_table = {0:'guineapigs',1:'squirrel',2:'sikadeer',3:'fox',4:'dog',5:'wolf',6:'cat',7:'chipmunk',8:'giraffe',9:'reindeer',10:'hyena',11:'weasel'}\n",
    "    \n",
    "    for i in range(7):\n",
    "        for j in ref_table.keys():\n",
    "            \n",
    "            # Create a new folder if not already exists\n",
    "            if not os.path.exists(os.path.join(to_path, ref_table[j])):\n",
    "                os.makedirs(os.path.join(to_path, ref_table[j]))\n",
    "            \n",
    "            file_list = df.loc[df['class'] == j]\n",
    "            count = 0\n",
    "            \n",
    "            for f in os.listdir(from_path+str(i+1)):\n",
    "                if f.split('.')[0] in file_list['file'].tolist():\n",
    "                    \n",
    "                    # Move the files to another folder\n",
    "                    shutil.move(os.path.join(from_path+str(i+1), f), os.path.join(to_path, ref_table[j], f))\n",
    "                    count += 1\n",
    "            \n",
    "            print('Successfully moved %d files to %s folder!\\n' % (count, ref_table[j]))"
   ]
  },
  {
   "cell_type": "code",
   "execution_count": 222,
   "metadata": {},
   "outputs": [],
   "source": [
    "from_path = '/Users/allen/Downloads/2016BOT01/valid/raw/Test'\n",
    "to_path = '/Users/allen/Downloads/2016BOT01/valid/raw/'"
   ]
  },
  {
   "cell_type": "code",
   "execution_count": 210,
   "metadata": {},
   "outputs": [
    {
     "name": "stdout",
     "output_type": "stream",
     "text": [
      "Successfully moved 0 files to guineapigs folder!\n",
      "\n",
      "Successfully moved 0 files to squirrel folder!\n",
      "\n",
      "Successfully moved 0 files to sikadeer folder!\n",
      "\n",
      "Successfully moved 0 files to fox folder!\n",
      "\n",
      "Successfully moved 0 files to dog folder!\n",
      "\n",
      "Successfully moved 0 files to wolf folder!\n",
      "\n",
      "Successfully moved 1166 files to cat folder!\n",
      "\n",
      "Successfully moved 424 files to chipmunk folder!\n",
      "\n",
      "Successfully moved 952 files to giraffe folder!\n",
      "\n",
      "Successfully moved 167 files to reindeer folder!\n",
      "\n",
      "Successfully moved 557 files to hyena folder!\n",
      "\n",
      "Successfully moved 315 files to weasel folder!\n",
      "\n",
      "Successfully moved 512 files to guineapigs folder!\n",
      "\n",
      "Successfully moved 0 files to squirrel folder!\n",
      "\n",
      "Successfully moved 899 files to sikadeer folder!\n",
      "\n",
      "Successfully moved 946 files to fox folder!\n",
      "\n",
      "Successfully moved 1349 files to dog folder!\n",
      "\n",
      "Successfully moved 55 files to wolf folder!\n",
      "\n",
      "Successfully moved 855 files to cat folder!\n",
      "\n",
      "Successfully moved 979 files to chipmunk folder!\n",
      "\n",
      "Successfully moved 943 files to giraffe folder!\n",
      "\n",
      "Successfully moved 867 files to reindeer folder!\n",
      "\n",
      "Successfully moved 801 files to hyena folder!\n",
      "\n",
      "Successfully moved 982 files to weasel folder!\n",
      "\n",
      "Successfully moved 646 files to guineapigs folder!\n",
      "\n",
      "Successfully moved 832 files to squirrel folder!\n",
      "\n",
      "Successfully moved 0 files to sikadeer folder!\n",
      "\n",
      "Successfully moved 924 files to fox folder!\n",
      "\n",
      "Successfully moved 1070 files to dog folder!\n",
      "\n",
      "Successfully moved 1046 files to wolf folder!\n",
      "\n",
      "Successfully moved 1016 files to cat folder!\n",
      "\n",
      "Successfully moved 603 files to chipmunk folder!\n",
      "\n",
      "Successfully moved 1073 files to giraffe folder!\n",
      "\n",
      "Successfully moved 867 files to reindeer folder!\n",
      "\n",
      "Successfully moved 680 files to hyena folder!\n",
      "\n",
      "Successfully moved 503 files to weasel folder!\n",
      "\n",
      "Successfully moved 954 files to guineapigs folder!\n",
      "\n",
      "Successfully moved 753 files to squirrel folder!\n",
      "\n",
      "Successfully moved 956 files to sikadeer folder!\n",
      "\n",
      "Successfully moved 0 files to fox folder!\n",
      "\n",
      "Successfully moved 1087 files to dog folder!\n",
      "\n",
      "Successfully moved 909 files to wolf folder!\n",
      "\n",
      "Successfully moved 1150 files to cat folder!\n",
      "\n",
      "Successfully moved 958 files to chipmunk folder!\n",
      "\n",
      "Successfully moved 778 files to giraffe folder!\n",
      "\n",
      "Successfully moved 652 files to reindeer folder!\n",
      "\n",
      "Successfully moved 797 files to hyena folder!\n",
      "\n",
      "Successfully moved 469 files to weasel folder!\n",
      "\n",
      "Successfully moved 1110 files to guineapigs folder!\n",
      "\n",
      "Successfully moved 932 files to squirrel folder!\n",
      "\n",
      "Successfully moved 662 files to sikadeer folder!\n",
      "\n",
      "Successfully moved 872 files to fox folder!\n",
      "\n",
      "Successfully moved 0 files to dog folder!\n",
      "\n",
      "Successfully moved 800 files to wolf folder!\n",
      "\n",
      "Successfully moved 1022 files to cat folder!\n",
      "\n",
      "Successfully moved 814 files to chipmunk folder!\n",
      "\n",
      "Successfully moved 840 files to giraffe folder!\n",
      "\n",
      "Successfully moved 775 files to reindeer folder!\n",
      "\n",
      "Successfully moved 467 files to hyena folder!\n",
      "\n",
      "Successfully moved 430 files to weasel folder!\n",
      "\n",
      "Successfully moved 1175 files to guineapigs folder!\n",
      "\n",
      "Successfully moved 1096 files to squirrel folder!\n",
      "\n",
      "Successfully moved 834 files to sikadeer folder!\n",
      "\n",
      "Successfully moved 933 files to fox folder!\n",
      "\n",
      "Successfully moved 1475 files to dog folder!\n",
      "\n",
      "Successfully moved 0 files to wolf folder!\n",
      "\n",
      "Successfully moved 1465 files to cat folder!\n",
      "\n",
      "Successfully moved 358 files to chipmunk folder!\n",
      "\n",
      "Successfully moved 468 files to giraffe folder!\n",
      "\n",
      "Successfully moved 1353 files to reindeer folder!\n",
      "\n",
      "Successfully moved 662 files to hyena folder!\n",
      "\n",
      "Successfully moved 299 files to weasel folder!\n",
      "\n",
      "Successfully moved 1546 files to guineapigs folder!\n",
      "\n",
      "Successfully moved 1225 files to squirrel folder!\n",
      "\n",
      "Successfully moved 846 files to sikadeer folder!\n",
      "\n",
      "Successfully moved 941 files to fox folder!\n",
      "\n",
      "Successfully moved 1447 files to dog folder!\n",
      "\n",
      "Successfully moved 668 files to wolf folder!\n",
      "\n",
      "Successfully moved 0 files to cat folder!\n",
      "\n",
      "Successfully moved 442 files to chipmunk folder!\n",
      "\n",
      "Successfully moved 434 files to giraffe folder!\n",
      "\n",
      "Successfully moved 1229 files to reindeer folder!\n",
      "\n",
      "Successfully moved 512 files to hyena folder!\n",
      "\n",
      "Successfully moved 236 files to weasel folder!\n",
      "\n"
     ]
    }
   ],
   "source": [
    "save_file(from_path, to_path, label)"
   ]
  },
  {
   "cell_type": "code",
   "execution_count": 251,
   "metadata": {},
   "outputs": [],
   "source": [
    "def unzip_file(path):\n",
    "    import zipfile\n",
    "    \n",
    "    for f in os.listdir(path):\n",
    "        \n",
    "        if f.endswith('.zip'):\n",
    "            \n",
    "            with zipfile.ZipFile(os.path.join(path, f),\"r\") as zip_ref:\n",
    "                zip_ref.extractall(os.path.join(path, 'raw'))\n",
    "                \n",
    "            print('Extracted files to %s folder!' % f.split('.')[0])"
   ]
  },
  {
   "cell_type": "code",
   "execution_count": 252,
   "metadata": {},
   "outputs": [],
   "source": [
    "path = '/Users/allen/Downloads/2016BOT01/train/'"
   ]
  },
  {
   "cell_type": "code",
   "execution_count": 253,
   "metadata": {},
   "outputs": [
    {
     "name": "stdout",
     "output_type": "stream",
     "text": [
      "Extracted files to cat folder!\n",
      "Extracted files to chipmunk folder!\n",
      "Extracted files to dog folder!\n",
      "Extracted files to fox folder!\n",
      "Extracted files to giraffe folder!\n",
      "Extracted files to guineapigs folder!\n",
      "Extracted files to hyena folder!\n",
      "Extracted files to reindeer folder!\n",
      "Extracted files to sikadeer folder!\n",
      "Extracted files to squirrel folder!\n",
      "Extracted files to weasel folder!\n",
      "Extracted files to wolf folder!\n"
     ]
    }
   ],
   "source": [
    "unzip_file(path)"
   ]
  },
  {
   "cell_type": "code",
   "execution_count": 254,
   "metadata": {},
   "outputs": [],
   "source": [
    "def cov_image(path):\n",
    "    import shutil\n",
    "    import os\n",
    "    from PIL import Image\n",
    "    \n",
    "    ref_table = {0:'guineapigs',1:'squirrel',2:'sikadeer',3:'fox',4:'dog',5:'wolf',6:'cat',7:'chipmunk',8:'giraffe',9:'reindeer',10:'hyena',11:'weasel'}\n",
    "\n",
    "    \n",
    "    for j in ref_table.keys():\n",
    "        \n",
    "        count = 0\n",
    "        \n",
    "        # Create a new folder if not already exists\n",
    "        if not os.path.exists(os.path.join(path, 'jpg', ref_table[j])):\n",
    "            os.makedirs(os.path.join(path, 'jpg', ref_table[j]))\n",
    "        \n",
    "        for f in os.listdir(os.path.join(path, 'raw', ref_table[j], ref_table[j])):\n",
    "            \n",
    "            count += 1\n",
    "            \n",
    "            if f.split('.')[1] != 'jpg':\n",
    "                im = Image.open(os.path.join(path, 'raw', ref_table[j], ref_table[j], f))\n",
    "                im.convert('RGB').save(os.path.join(path, 'jpg', ref_table[j], f.split('.')[0] + '.jpg'))\n",
    "            else:\n",
    "                shutil.copy(os.path.join(path, 'raw', ref_table[j], ref_table[j], f), os.path.join(path, 'jpg', ref_table[j], f))\n",
    "                \n",
    "        print('Successfully converted %d files to %s folder!\\n' % (count, ref_table[j]))"
   ]
  },
  {
   "cell_type": "code",
   "execution_count": 255,
   "metadata": {},
   "outputs": [],
   "source": [
    "path = '/Users/allen/Downloads/2016BOT01/train/'"
   ]
  },
  {
   "cell_type": "code",
   "execution_count": 257,
   "metadata": {},
   "outputs": [
    {
     "name": "stdout",
     "output_type": "stream",
     "text": [
      "Successfully converted 12000 files to guineapigs folder!\n",
      "\n",
      "Successfully converted 10000 files to squirrel folder!\n",
      "\n",
      "Successfully converted 8000 files to sikadeer folder!\n",
      "\n",
      "Successfully converted 10000 files to fox folder!\n",
      "\n",
      "Successfully converted 12000 files to dog folder!\n",
      "\n",
      "Successfully converted 12000 files to wolf folder!\n",
      "\n",
      "Successfully converted 12000 files to cat folder!\n",
      "\n",
      "Successfully converted 9681 files to chipmunk folder!\n",
      "\n",
      "Successfully converted 9977 files to giraffe folder!\n",
      "\n",
      "Successfully converted 8000 files to reindeer folder!\n",
      "\n",
      "Successfully converted 7939 files to hyena folder!\n",
      "\n",
      "Successfully converted 7379 files to weasel folder!\n",
      "\n"
     ]
    }
   ],
   "source": [
    "cov_image(path)"
   ]
  },
  {
   "cell_type": "code",
   "execution_count": 272,
   "metadata": {},
   "outputs": [
    {
     "name": "stdout",
     "output_type": "stream",
     "text": [
      "0a72324e78d24c7384d13495b5562058.gif\n",
      "48402068a0d6451fb7a18ef6206850a8.png\n",
      "Answer_Test1.txt\n",
      "image.ipynb\n",
      "out.jpg\n",
      "outfile.jpg\n",
      "\n"
     ]
    }
   ],
   "source": [
    "import subprocess\n",
    "print(subprocess.run(\"ls\", stdout=subprocess.PIPE).stdout.decode('utf-8'))"
   ]
  },
  {
   "cell_type": "code",
   "execution_count": null,
   "metadata": {},
   "outputs": [],
   "source": []
  }
 ],
 "metadata": {
  "kernelspec": {
   "display_name": "Python 3",
   "language": "python",
   "name": "python3"
  },
  "language_info": {
   "codemirror_mode": {
    "name": "ipython",
    "version": 3
   },
   "file_extension": ".py",
   "mimetype": "text/x-python",
   "name": "python",
   "nbconvert_exporter": "python",
   "pygments_lexer": "ipython3",
   "version": "3.6.3"
  }
 },
 "nbformat": 4,
 "nbformat_minor": 2
}
