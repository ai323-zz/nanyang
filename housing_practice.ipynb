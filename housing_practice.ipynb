{
 "cells": [
  {
   "cell_type": "code",
   "execution_count": 144,
   "metadata": {
    "collapsed": false
   },
   "outputs": [],
   "source": [
    "%matplotlib inline\n",
    "from pyplotz.pyplotz import PyplotZ\n",
    "import matplotlib.pyplot as plt\n",
    "import matplotlib.font_manager as mfm\n",
    "import pandas as pd\n",
    "import numpy as np"
   ]
  },
  {
   "cell_type": "code",
   "execution_count": 247,
   "metadata": {
    "collapsed": false
   },
   "outputs": [],
   "source": [
    "pltz = PyplotZ()\n",
    "pltz.enable_chinese()\n",
    "\n",
    "font_path = \"/mnt/cephfs/hadoop-compute/phoenix/allenz/Arial_Unicode.ttf\"\n",
    "prop = mfm.FontProperties(fname=font_path)"
   ]
  },
  {
   "cell_type": "code",
   "execution_count": 145,
   "metadata": {
    "collapsed": true
   },
   "outputs": [],
   "source": [
    "data = pd.read_csv(\"test.csv\", sep = \",\")"
   ]
  },
  {
   "cell_type": "code",
   "execution_count": 123,
   "metadata": {
    "collapsed": false
   },
   "outputs": [
    {
     "data": {
      "text/html": [
       "<div>\n",
       "<table border=\"1\" class=\"dataframe\">\n",
       "  <thead>\n",
       "    <tr style=\"text-align: right;\">\n",
       "      <th></th>\n",
       "      <th>url</th>\n",
       "      <th>room</th>\n",
       "      <th>hall</th>\n",
       "      <th>toilet</th>\n",
       "      <th>area</th>\n",
       "      <th>unitprice</th>\n",
       "      <th>price</th>\n",
       "      <th>direction</th>\n",
       "      <th>floor</th>\n",
       "      <th>deco</th>\n",
       "      <th>year</th>\n",
       "      <th>structure</th>\n",
       "      <th>property</th>\n",
       "      <th>listdate</th>\n",
       "      <th>district</th>\n",
       "    </tr>\n",
       "  </thead>\n",
       "  <tbody>\n",
       "    <tr>\n",
       "      <th>0</th>\n",
       "      <td>http://esf.hz.fang.com/chushou/18_228071332_37...</td>\n",
       "      <td>3</td>\n",
       "      <td>2</td>\n",
       "      <td>1</td>\n",
       "      <td>88.70</td>\n",
       "      <td>28072</td>\n",
       "      <td>2489986.40</td>\n",
       "      <td>南北</td>\n",
       "      <td>低层</td>\n",
       "      <td>精装修</td>\n",
       "      <td>2016</td>\n",
       "      <td>平层</td>\n",
       "      <td>个人产权</td>\n",
       "      <td>2017-11-24</td>\n",
       "      <td>余杭</td>\n",
       "    </tr>\n",
       "    <tr>\n",
       "      <th>1</th>\n",
       "      <td>http://esf.hz.fang.com/chushou/18_228495451_71...</td>\n",
       "      <td>3</td>\n",
       "      <td>2</td>\n",
       "      <td>2</td>\n",
       "      <td>109.00</td>\n",
       "      <td>27431</td>\n",
       "      <td>2989979.00</td>\n",
       "      <td>南北</td>\n",
       "      <td>中层</td>\n",
       "      <td>精装修</td>\n",
       "      <td>2016</td>\n",
       "      <td>平层</td>\n",
       "      <td>商品房</td>\n",
       "      <td>2017-12-01</td>\n",
       "      <td>余杭</td>\n",
       "    </tr>\n",
       "    <tr>\n",
       "      <th>2</th>\n",
       "      <td>http://esf.hz.fang.com/chushou/18_228340700_f8...</td>\n",
       "      <td>1</td>\n",
       "      <td>2</td>\n",
       "      <td>1</td>\n",
       "      <td>59.00</td>\n",
       "      <td>49153</td>\n",
       "      <td>2900027.00</td>\n",
       "      <td>南</td>\n",
       "      <td>中层</td>\n",
       "      <td>精装修</td>\n",
       "      <td>2010</td>\n",
       "      <td>平层</td>\n",
       "      <td>商品房</td>\n",
       "      <td>2017-11-29</td>\n",
       "      <td>滨江</td>\n",
       "    </tr>\n",
       "    <tr>\n",
       "      <th>3</th>\n",
       "      <td>http://esf.hz.fang.com/chushou/18_227896845_e1...</td>\n",
       "      <td>3</td>\n",
       "      <td>1</td>\n",
       "      <td>1</td>\n",
       "      <td>74.48</td>\n",
       "      <td>56391</td>\n",
       "      <td>4200001.68</td>\n",
       "      <td>南北</td>\n",
       "      <td>中层</td>\n",
       "      <td>中装修</td>\n",
       "      <td>1990</td>\n",
       "      <td>平层</td>\n",
       "      <td>商品房</td>\n",
       "      <td>2017-11-21</td>\n",
       "      <td>西湖</td>\n",
       "    </tr>\n",
       "    <tr>\n",
       "      <th>4</th>\n",
       "      <td>http://esf.hz.fang.com/chushou/18_228425129_bd...</td>\n",
       "      <td>3</td>\n",
       "      <td>2</td>\n",
       "      <td>1</td>\n",
       "      <td>135.00</td>\n",
       "      <td>19259</td>\n",
       "      <td>2599965.00</td>\n",
       "      <td>南北</td>\n",
       "      <td>高层</td>\n",
       "      <td>简装修</td>\n",
       "      <td>2005</td>\n",
       "      <td>平层</td>\n",
       "      <td>商品房</td>\n",
       "      <td>2017-11-30</td>\n",
       "      <td>余杭</td>\n",
       "    </tr>\n",
       "  </tbody>\n",
       "</table>\n",
       "</div>"
      ],
      "text/plain": [
       "                                                 url  room  hall  toilet  \\\n",
       "0  http://esf.hz.fang.com/chushou/18_228071332_37...     3     2       1   \n",
       "1  http://esf.hz.fang.com/chushou/18_228495451_71...     3     2       2   \n",
       "2  http://esf.hz.fang.com/chushou/18_228340700_f8...     1     2       1   \n",
       "3  http://esf.hz.fang.com/chushou/18_227896845_e1...     3     1       1   \n",
       "4  http://esf.hz.fang.com/chushou/18_228425129_bd...     3     2       1   \n",
       "\n",
       "     area  unitprice       price direction floor deco  year structure  \\\n",
       "0   88.70      28072  2489986.40        南北    低层  精装修  2016        平层   \n",
       "1  109.00      27431  2989979.00        南北    中层  精装修  2016        平层   \n",
       "2   59.00      49153  2900027.00         南    中层  精装修  2010        平层   \n",
       "3   74.48      56391  4200001.68        南北    中层  中装修  1990        平层   \n",
       "4  135.00      19259  2599965.00        南北    高层  简装修  2005        平层   \n",
       "\n",
       "  property    listdate district  \n",
       "0     个人产权  2017-11-24       余杭  \n",
       "1      商品房  2017-12-01       余杭  \n",
       "2      商品房  2017-11-29       滨江  \n",
       "3      商品房  2017-11-21       西湖  \n",
       "4      商品房  2017-11-30       余杭  "
      ]
     },
     "execution_count": 123,
     "metadata": {},
     "output_type": "execute_result"
    }
   ],
   "source": [
    "data.head()"
   ]
  },
  {
   "cell_type": "code",
   "execution_count": 124,
   "metadata": {
    "collapsed": false
   },
   "outputs": [
    {
     "data": {
      "text/html": [
       "<div>\n",
       "<table border=\"1\" class=\"dataframe\">\n",
       "  <thead>\n",
       "    <tr style=\"text-align: right;\">\n",
       "      <th></th>\n",
       "      <th>room</th>\n",
       "      <th>hall</th>\n",
       "      <th>toilet</th>\n",
       "      <th>area</th>\n",
       "      <th>unitprice</th>\n",
       "      <th>price</th>\n",
       "      <th>year</th>\n",
       "    </tr>\n",
       "  </thead>\n",
       "  <tbody>\n",
       "    <tr>\n",
       "      <th>count</th>\n",
       "      <td>30.000000</td>\n",
       "      <td>30.000000</td>\n",
       "      <td>30.000000</td>\n",
       "      <td>30.000000</td>\n",
       "      <td>30.000000</td>\n",
       "      <td>3.000000e+01</td>\n",
       "      <td>30.000000</td>\n",
       "    </tr>\n",
       "    <tr>\n",
       "      <th>mean</th>\n",
       "      <td>2.733333</td>\n",
       "      <td>1.733333</td>\n",
       "      <td>1.433333</td>\n",
       "      <td>102.496667</td>\n",
       "      <td>31768.833333</td>\n",
       "      <td>3.164329e+06</td>\n",
       "      <td>2007.900000</td>\n",
       "    </tr>\n",
       "    <tr>\n",
       "      <th>std</th>\n",
       "      <td>1.014833</td>\n",
       "      <td>0.583292</td>\n",
       "      <td>0.678911</td>\n",
       "      <td>43.386344</td>\n",
       "      <td>11024.698980</td>\n",
       "      <td>1.691082e+06</td>\n",
       "      <td>7.512518</td>\n",
       "    </tr>\n",
       "    <tr>\n",
       "      <th>min</th>\n",
       "      <td>1.000000</td>\n",
       "      <td>0.000000</td>\n",
       "      <td>1.000000</td>\n",
       "      <td>32.000000</td>\n",
       "      <td>12699.000000</td>\n",
       "      <td>8.999781e+05</td>\n",
       "      <td>1990.000000</td>\n",
       "    </tr>\n",
       "    <tr>\n",
       "      <th>25%</th>\n",
       "      <td>2.000000</td>\n",
       "      <td>1.250000</td>\n",
       "      <td>1.000000</td>\n",
       "      <td>78.797500</td>\n",
       "      <td>24789.250000</td>\n",
       "      <td>2.212506e+06</td>\n",
       "      <td>2005.000000</td>\n",
       "    </tr>\n",
       "    <tr>\n",
       "      <th>50%</th>\n",
       "      <td>3.000000</td>\n",
       "      <td>2.000000</td>\n",
       "      <td>1.000000</td>\n",
       "      <td>89.000000</td>\n",
       "      <td>28742.000000</td>\n",
       "      <td>2.945003e+06</td>\n",
       "      <td>2010.000000</td>\n",
       "    </tr>\n",
       "    <tr>\n",
       "      <th>75%</th>\n",
       "      <td>3.000000</td>\n",
       "      <td>2.000000</td>\n",
       "      <td>2.000000</td>\n",
       "      <td>110.110000</td>\n",
       "      <td>38995.750000</td>\n",
       "      <td>3.584991e+06</td>\n",
       "      <td>2014.000000</td>\n",
       "    </tr>\n",
       "    <tr>\n",
       "      <th>max</th>\n",
       "      <td>5.000000</td>\n",
       "      <td>3.000000</td>\n",
       "      <td>3.000000</td>\n",
       "      <td>212.000000</td>\n",
       "      <td>56391.000000</td>\n",
       "      <td>9.499924e+06</td>\n",
       "      <td>2017.000000</td>\n",
       "    </tr>\n",
       "  </tbody>\n",
       "</table>\n",
       "</div>"
      ],
      "text/plain": [
       "            room       hall     toilet        area     unitprice  \\\n",
       "count  30.000000  30.000000  30.000000   30.000000     30.000000   \n",
       "mean    2.733333   1.733333   1.433333  102.496667  31768.833333   \n",
       "std     1.014833   0.583292   0.678911   43.386344  11024.698980   \n",
       "min     1.000000   0.000000   1.000000   32.000000  12699.000000   \n",
       "25%     2.000000   1.250000   1.000000   78.797500  24789.250000   \n",
       "50%     3.000000   2.000000   1.000000   89.000000  28742.000000   \n",
       "75%     3.000000   2.000000   2.000000  110.110000  38995.750000   \n",
       "max     5.000000   3.000000   3.000000  212.000000  56391.000000   \n",
       "\n",
       "              price         year  \n",
       "count  3.000000e+01    30.000000  \n",
       "mean   3.164329e+06  2007.900000  \n",
       "std    1.691082e+06     7.512518  \n",
       "min    8.999781e+05  1990.000000  \n",
       "25%    2.212506e+06  2005.000000  \n",
       "50%    2.945003e+06  2010.000000  \n",
       "75%    3.584991e+06  2014.000000  \n",
       "max    9.499924e+06  2017.000000  "
      ]
     },
     "execution_count": 124,
     "metadata": {},
     "output_type": "execute_result"
    }
   ],
   "source": [
    "data.describe()"
   ]
  },
  {
   "cell_type": "code",
   "execution_count": 174,
   "metadata": {
    "collapsed": false
   },
   "outputs": [
    {
     "data": {
      "text/plain": [
       "(array([0, 1, 2, 3, 4]), <a list of 5 Text xticklabel objects>)"
      ]
     },
     "execution_count": 174,
     "metadata": {},
     "output_type": "execute_result"
    },
    {
     "data": {
      "image/png": "[encoded data removed]",
      "text/plain": [
       "<matplotlib.figure.Figure at 0x7f7c803e2d30>"
      ]
     },
     "metadata": {},
     "output_type": "display_data"
    }
   ],
   "source": [
    "fig1 = plt.figure()\n",
    "data.groupby(\"room\").size().plot(kind='bar')\n",
    "plt.xticks(rotation=360)\n",
    "# fig1.autofmt_xdate()"
   ]
  },
  {
   "cell_type": "code",
   "execution_count": 175,
   "metadata": {
    "collapsed": false
   },
   "outputs": [
    {
     "data": {
      "text/plain": [
       "(array([0, 1, 2, 3]), <a list of 4 Text xticklabel objects>)"
      ]
     },
     "execution_count": 175,
     "metadata": {},
     "output_type": "execute_result"
    },
    {
     "data": {
      "image/png": "[encoded data removed]",
      "text/plain": [
       "<matplotlib.figure.Figure at 0x7f7c806f3f60>"
      ]
     },
     "metadata": {},
     "output_type": "display_data"
    }
   ],
   "source": [
    "fig2 = plt.figure()\n",
    "data.groupby(\"hall\").size().plot(kind='bar')\n",
    "plt.xticks(rotation=360)"
   ]
  },
  {
   "cell_type": "code",
   "execution_count": 176,
   "metadata": {
    "collapsed": false
   },
   "outputs": [
    {
     "data": {
      "text/plain": [
       "(array([0, 1, 2]), <a list of 3 Text xticklabel objects>)"
      ]
     },
     "execution_count": 176,
     "metadata": {},
     "output_type": "execute_result"
    },
    {
     "data": {
      "image/png": "[encoded data removed]",
      "text/plain": [
       "<matplotlib.figure.Figure at 0x7f7c805474a8>"
      ]
     },
     "metadata": {},
     "output_type": "display_data"
    }
   ],
   "source": [
    "fig3 = plt.figure()\n",
    "data.groupby(\"toilet\").size().plot(kind='bar')\n",
    "plt.xticks(rotation=360)"
   ]
  },
  {
   "cell_type": "code",
   "execution_count": 259,
   "metadata": {
    "collapsed": false
   },
   "outputs": [
    {
     "data": {
      "text/plain": [
       "(array([0, 1, 2, 3, 4, 5, 6, 7]), <a list of 8 Text xticklabel objects>)"
      ]
     },
     "execution_count": 259,
     "metadata": {},
     "output_type": "execute_result"
    },
    {
     "data": {
      "image/png": "[encoded data removed]",
      "text/plain": [
       "<matplotlib.figure.Figure at 0x7f7c7e860e80>"
      ]
     },
     "metadata": {},
     "output_type": "display_data"
    }
   ],
   "source": [
    "ax4 = data.groupby(\"district\").size().plot(kind='bar')\n",
    "for i in ax4.get_xticklabels():\n",
    "    i.set_fontproperties(prop)\n",
    "plt.xticks(rotation=360)"
   ]
  },
  {
   "cell_type": "code",
   "execution_count": 263,
   "metadata": {
    "collapsed": false
   },
   "outputs": [
    {
     "data": {
      "text/plain": [
       "(array([0]), <a list of 1 Text xticklabel objects>)"
      ]
     },
     "execution_count": 263,
     "metadata": {},
     "output_type": "execute_result"
    },
    {
     "data": {
      "image/png": "[encoded data removed]",
      "text/plain": [
       "<matplotlib.figure.Figure at 0x7f7c7e7a5b00>"
      ]
     },
     "metadata": {},
     "output_type": "display_data"
    }
   ],
   "source": [
    "ax5 = data.groupby(\"structure\").size().plot(kind='bar')\n",
    "for i in ax5.get_xticklabels():\n",
    "    i.set_fontproperties(prop)\n",
    "plt.xticks(rotation=360)"
   ]
  },
  {
   "cell_type": "code",
   "execution_count": 264,
   "metadata": {
    "collapsed": false
   },
   "outputs": [
    {
     "data": {
      "text/plain": [
       "(array([0, 1]), <a list of 2 Text xticklabel objects>)"
      ]
     },
     "execution_count": 264,
     "metadata": {},
     "output_type": "execute_result"
    },
    {
     "data": {
      "image/png": "[encoded data removed]",
      "text/plain": [
       "<matplotlib.figure.Figure at 0x7f7c7e717160>"
      ]
     },
     "metadata": {},
     "output_type": "display_data"
    }
   ],
   "source": [
    "ax6 = data.groupby(\"property\").size().plot(kind='bar')\n",
    "for i in ax6.get_xticklabels():\n",
    "    i.set_fontproperties(prop)\n",
    "plt.xticks(rotation=360)"
   ]
  },
  {
   "cell_type": "code",
   "execution_count": 268,
   "metadata": {
    "collapsed": false
   },
   "outputs": [
    {
     "data": {
      "text/plain": [
       "(array([0, 1]), <a list of 2 Text xticklabel objects>)"
      ]
     },
     "execution_count": 268,
     "metadata": {},
     "output_type": "execute_result"
    },
    {
     "data": {
      "image/png": "[encoded data removed]",
      "text/plain": [
       "<matplotlib.figure.Figure at 0x7f7c7e5a6748>"
      ]
     },
     "metadata": {},
     "output_type": "display_data"
    }
   ],
   "source": [
    "ax7 = data.groupby(\"direction\").size().plot(kind='bar')\n",
    "for i in ax7.get_xticklabels():\n",
    "    i.set_fontproperties(prop)\n",
    "plt.xticks(rotation=360)"
   ]
  },
  {
   "cell_type": "code",
   "execution_count": 269,
   "metadata": {
    "collapsed": false
   },
   "outputs": [
    {
     "data": {
      "text/plain": [
       "(array([0, 1, 2]), <a list of 3 Text xticklabel objects>)"
      ]
     },
     "execution_count": 269,
     "metadata": {},
     "output_type": "execute_result"
    },
    {
     "data": {
      "image/png": "[encoded data removed]",
      "text/plain": [
       "<matplotlib.figure.Figure at 0x7f7c7e4eac18>"
      ]
     },
     "metadata": {},
     "output_type": "display_data"
    }
   ],
   "source": [
    "ax8 = data.groupby(\"floor\").size().plot(kind='bar')\n",
    "for i in ax8.get_xticklabels():\n",
    "    i.set_fontproperties(prop)\n",
    "plt.xticks(rotation=360)"
   ]
  },
  {
   "cell_type": "code",
   "execution_count": 270,
   "metadata": {
    "collapsed": false
   },
   "outputs": [
    {
     "data": {
      "text/plain": [
       "(array([0, 1, 2, 3, 4]), <a list of 5 Text xticklabel objects>)"
      ]
     },
     "execution_count": 270,
     "metadata": {},
     "output_type": "execute_result"
    },
    {
     "data": {
      "image/png": "[encoded data removed]",
      "text/plain": [
       "<matplotlib.figure.Figure at 0x7f7c7e923390>"
      ]
     },
     "metadata": {},
     "output_type": "display_data"
    }
   ],
   "source": [
    "ax9 = data.groupby(\"deco\").size().plot(kind='bar')\n",
    "for i in ax9.get_xticklabels():\n",
    "    i.set_fontproperties(prop)\n",
    "plt.xticks(rotation=360)"
   ]
  },
  {
   "cell_type": "code",
   "execution_count": 315,
   "metadata": {
    "collapsed": false
   },
   "outputs": [
    {
     "data": {
      "text/plain": [
       "(array([ 0,  1,  2,  3,  4,  5,  6,  7,  8,  9, 10, 11, 12, 13, 14, 15, 16]),\n",
       " <a list of 17 Text xticklabel objects>)"
      ]
     },
     "execution_count": 315,
     "metadata": {},
     "output_type": "execute_result"
    },
    {
     "data": {
      "image/png": "[encoded data removed]",
      "text/plain": [
       "<matplotlib.figure.Figure at 0x7f7c7c490dd8>"
      ]
     },
     "metadata": {},
     "output_type": "display_data"
    }
   ],
   "source": [
    "ax10 = data.groupby(\"year\").size().plot(kind='bar', figsize=(10,5))\n",
    "for i in ax10.get_xticklabels():\n",
    "    i.set_fontproperties(prop)\n",
    "plt.xticks(rotation=360)"
   ]
  },
  {
   "cell_type": "code",
   "execution_count": 318,
   "metadata": {
    "collapsed": false
   },
   "outputs": [
    {
     "data": {
      "text/plain": [
       "<matplotlib.text.Text at 0x7f7c7c260a20>"
      ]
     },
     "execution_count": 318,
     "metadata": {},
     "output_type": "execute_result"
    },
    {
     "data": {
      "image/png": "[encoded data removed]",
      "text/plain": [
       "<matplotlib.figure.Figure at 0x7f7c7c39ecc0>"
      ]
     },
     "metadata": {},
     "output_type": "display_data"
    }
   ],
   "source": [
    "data['price'].hist()\n",
    "plt.title('price')"
   ]
  },
  {
   "cell_type": "code",
   "execution_count": 319,
   "metadata": {
    "collapsed": false
   },
   "outputs": [
    {
     "data": {
      "text/plain": [
       "<matplotlib.text.Text at 0x7f7c7c1ebcc0>"
      ]
     },
     "execution_count": 319,
     "metadata": {},
     "output_type": "execute_result"
    },
    {
     "data": {
      "image/png": "[encoded data removed]",
      "text/plain": [
       "<matplotlib.figure.Figure at 0x7f7c7c1c6a90>"
      ]
     },
     "metadata": {},
     "output_type": "display_data"
    }
   ],
   "source": [
    "data['unitprice'].hist()\n",
    "plt.title('unit price')"
   ]
  },
  {
   "cell_type": "code",
   "execution_count": null,
   "metadata": {
    "collapsed": true
   },
   "outputs": [],
   "source": []
  }
 ],
 "metadata": {
  "kernelspec": {
   "display_name": "Python 3 (General DS)",
   "language": "python",
   "name": "python3"
  },
  "language_info": {
   "codemirror_mode": {
    "name": "ipython",
    "version": 3
   },
   "file_extension": ".py",
   "mimetype": "text/x-python",
   "name": "python",
   "nbconvert_exporter": "python",
   "pygments_lexer": "ipython3",
   "version": "3.4.2"
  }
 },
 "nbformat": 4,
 "nbformat_minor": 2
}
